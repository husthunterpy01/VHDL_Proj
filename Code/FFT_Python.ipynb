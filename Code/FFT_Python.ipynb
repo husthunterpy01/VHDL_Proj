{
 "cells": [
  {
   "cell_type": "code",
   "execution_count": 2,
   "id": "156d3010",
   "metadata": {},
   "outputs": [
    {
     "name": "stdout",
     "output_type": "stream",
     "text": [
      "[(32767+0j), (32727+1607j), (32609+3211j), (32412+4807j), (32137+6392j), (31785+7961j), (31356+9511j), (30851+11038j), (30272+12539j), (29621+14009j), (28897+15446j), (28105+16845j), (27244+18204j), (26318+19519j), (25329+20787j), (24278+22004j), (23169+23169j), (22004+24278j), (20787+25329j), (19519+26318j), (18204+27244j), (16845+28105j), (15446+28897j), (14009+29621j), (12539+30272j), (11038+30851j), (9511+31356j), (7961+31785j), (6392+32137j), (4807+32412j), (3211+32609j), (1607+32727j), 32767j, (-1607+32727j), (-3211+32609j), (-4807+32412j), (-6392+32137j), (-7961+31785j), (-9511+31356j), (-11038+30851j), (-12539+30272j), (-14009+29621j), (-15446+28897j), (-16845+28105j), (-18204+27244j), (-19519+26318j), (-20787+25329j), (-22004+24278j), (-23169+23169j), (-24278+22004j), (-25329+20787j), (-26318+19519j), (-27244+18204j), (-28105+16845j), (-28897+15446j), (-29621+14009j), (-30272+12539j), (-30851+11038j), (-31356+9511j), (-31785+7961j), (-32137+6392j), (-32412+4807j), (-32609+3211j), (-32727+1607j), (-32767+0j), (-32727-1607j), (-32609-3211j), (-32412-4807j), (-32137-6392j), (-31785-7961j), (-31356-9511j), (-30851-11038j), (-30272-12539j), (-29621-14009j), (-28897-15446j), (-28105-16845j), (-27244-18204j), (-26318-19519j), (-25329-20787j), (-24278-22004j), (-23169-23169j), (-22004-24278j), (-20787-25329j), (-19519-26318j), (-18204-27244j), (-16845-28105j), (-15446-28897j), (-14009-29621j), (-12539-30272j), (-11038-30851j), (-9511-31356j), (-7961-31785j), (-6392-32137j), (-4807-32412j), (-3211-32609j), (-1607-32727j), -32767j, (1607-32727j), (3211-32609j), (4807-32412j), (6392-32137j), (7961-31785j), (9511-31356j), (11038-30851j), (12539-30272j), (14009-29621j), (15446-28897j), (16845-28105j), (18204-27244j), (19519-26318j), (20787-25329j), (22004-24278j), (23169-23169j), (24278-22004j), (25329-20787j), (26318-19519j), (27244-18204j), (28105-16845j), (28897-15446j), (29621-14009j), (30272-12539j), (30851-11038j), (31356-9511j), (31785-7961j), (32137-6392j), (32412-4807j), (32609-3211j), (32727-1607j)]\n"
     ]
    }
   ],
   "source": [
    "import struct\n",
    "import numpy as np\n",
    "# create empty lists for decimalr_num and decimali_num\n",
    "decimalr_nums = []\n",
    "decimali_nums = []\n",
    "\n",
    "# open the .txt file for reading\n",
    "with open('F:\\VHDL\\ET5080E - 20221\\Big project\\pipelined_fft_128-master_ref\\work\\input_r.txt', 'r') as f:\n",
    "    # read the file line by line\n",
    "    for line in f:\n",
    "        # strip the line of any whitespace\n",
    "        line = line.strip()\n",
    "        # convert the binary string to an integer\n",
    "        binary_num = int(line, 2)\n",
    "        # use the struct module to convert the binary number to a signed decimal\n",
    "        decimalr_num = struct.unpack('h', struct.pack('H', binary_num))[0]\n",
    "        # append the decimal number to the decimalr_nums list\n",
    "        decimalr_nums.append(decimalr_num)\n",
    "\n",
    "# open the .txt file for reading\n",
    "with open('F:\\VHDL\\ET5080E - 20221\\Big project\\pipelined_fft_128-master_ref\\work\\input_i.txt', 'r') as f:\n",
    "    # read the file line by line\n",
    "    for line in f:\n",
    "        # strip the line of any whitespace\n",
    "        line = line.strip()\n",
    "        # convert the binary string to an integer\n",
    "        binary_num = int(line, 2)\n",
    "        # use the struct module to convert the binary number to a signed decimal\n",
    "        decimali_num = struct.unpack('h', struct.pack('H', binary_num))[0]\n",
    "        # append the decimal number to the decimali_nums list\n",
    "        decimali_nums.append(decimali_num)\n",
    "\n",
    "# use the zip function to iterate over the two lists and create a new list of complex numbers\n",
    "complex_numbers = [complex(decimalr_num, decimali_num) for decimalr_num, decimali_num in zip(decimalr_nums, decimali_nums)]\n",
    "print(complex_numbers)"
   ]
  },
  {
   "cell_type": "code",
   "execution_count": null,
   "id": "3e26d230",
   "metadata": {},
   "outputs": [],
   "source": []
  }
 ],
 "metadata": {
  "kernelspec": {
   "display_name": "Python 3 (ipykernel)",
   "language": "python",
   "name": "python3"
  },
  "language_info": {
   "codemirror_mode": {
    "name": "ipython",
    "version": 3
   },
   "file_extension": ".py",
   "mimetype": "text/x-python",
   "name": "python",
   "nbconvert_exporter": "python",
   "pygments_lexer": "ipython3",
   "version": "3.9.12"
  }
 },
 "nbformat": 4,
 "nbformat_minor": 5
}
